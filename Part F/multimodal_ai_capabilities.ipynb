{
 "cells": [
  {
   "cell_type": "markdown",
   "metadata": {},
   "source": [
    "# Multimodal Capabilities of Gemini, Claude, and GPT-4\n",
    "\n",
    "This notebook demonstrates the advanced multimodal capabilities of three leading AI models: Gemini, Claude, and GPT-4. We'll explore their abilities across various modalities including video, audio, images, and text, showcasing ten advanced features in ten different domains."
   ]
  },
  {
   "cell_type": "markdown",
   "metadata": {},
   "source": []
  },
  {
   "cell_type": "markdown",
   "metadata": {},
   "source": [
    "## Setup\n",
    "\n",
    "First, let's install the necessary libraries and set up API keys. Note: You'll need to replace the placeholder API keys with your actual keys."
   ]
  },
  {
   "cell_type": "code",
   "execution_count": null,
   "metadata": {},
   "outputs": [],
   "source": [
    "!pip install google-generativeai openai anthropic\n",
    "\n",
    "import os\n",
    "import google.generativeai as genai\n",
    "import openai\n",
    "from anthropic import Anthropic, HUMAN_PROMPT, AI_PROMPT\n",
    "\n",
    "# Set up API keys (replace with your actual keys)\n",
    "os.environ['GOOGLE_API_KEY'] = 'your_google_api_key'\n",
    "os.environ['OPENAI_API_KEY'] = 'your_openai_api_key'\n",
    "os.environ['ANTHROPIC_API_KEY'] = 'your_anthropic_api_key'\n",
    "\n",
    "# Initialize clients\n",
    "genai.configure(api_key=os.environ['GOOGLE_API_KEY'])\n",
    "openai.api_key = os.environ['OPENAI_API_KEY']\n",
    "anthropic = Anthropic(api_key=os.environ['ANTHROPIC_API_KEY'])"
   ]
  },
  {
   "cell_type": "markdown",
   "metadata": {},
   "source": [
    "## 1. Code Generation and Analysis (Gemini)\n",
    "\n",
    "Gemini excels at understanding and generating code across multiple programming languages."
   ]
  },
  {
   "cell_type": "code",
   "execution_count": null,
   "metadata": {},
   "outputs": [],
   "source": [
    "code_prompt = \"\"\"\n",
    "Generate a Python function that implements a basic neural network \n",
    "using NumPy. The function should take input data, hidden layer size, \n",
    "and output size as parameters.\n",
    "\"\"\"\n",
    "\n",
    "model = genai.GenerativeModel('gemini-pro')\n",
    "response = model.generate_content(code_prompt)\n",
    "print(response.text)"
   ]
  },
  {
   "cell_type": "markdown",
   "metadata": {},
   "source": [
    "## 2. Image Analysis and Generation (DALL-E 3 via GPT-4)\n",
    "\n",
    "GPT-4 can analyze images and generate detailed descriptions. It can also use DALL-E 3 to create images based on text prompts."
   ]
  },
  {
   "cell_type": "code",
   "execution_count": null,
   "metadata": {},
   "outputs": [],
   "source": [
    "# Image analysis (replace 'image_url' with an actual image URL)\n",
    "image_url = 'https://example.com/sample_image.jpg'\n",
    "analysis_prompt = f\"Analyze the image at {image_url} and describe its contents in detail.\"\n",
    "\n",
    "response = openai.ChatCompletion.create(\n",
    "    model=\"gpt-4-vision-preview\",\n",
    "    messages=[\n",
    "        {\"role\": \"user\", \"content\": [{\"type\": \"text\", \"text\": analysis_prompt}, {\"type\": \"image_url\", \"image_url\": image_url}]}\n",
    "    ]\n",
    ")\n",
    "print(response.choices[0].message.content)\n",
    "\n",
    "# Image generation\n",
    "generation_prompt = \"Create an image of a futuristic city with flying cars and holographic billboards.\"\n",
    "response = openai.Image.create(prompt=generation_prompt, n=1, size=\"1024x1024\")\n",
    "print(f\"Generated image URL: {response['data'][0]['url']}\")"
   ]
  },
  {
   "cell_type": "markdown",
   "metadata": {},
   "source": [
    "## 3. Natural Language Processing (Claude)\n",
    "\n",
    "Claude excels in various NLP tasks, including sentiment analysis, named entity recognition, and text summarization."
   ]
  },
  {
   "cell_type": "code",
   "execution_count": null,
   "metadata": {},
   "outputs": [],
   "source": [
    "nlp_prompt = \"\"\"\n",
    "Perform the following NLP tasks on this text:\n",
    "'Apple Inc. announced today that its new iPhone 15 Pro has revolutionized mobile photography with its advanced AI-powered camera system.'\n",
    "\n",
    "1. Sentiment Analysis\n",
    "2. Named Entity Recognition\n",
    "3. Key Information Extraction\n",
    "\"\"\"\n",
    "\n",
    "response = anthropic.completions.create(\n",
    "    model=\"claude-2\",\n",
    "    prompt=f\"{HUMAN_PROMPT} {nlp_prompt}{AI_PROMPT}\",\n",
    "    max_tokens_to_sample=300\n",
    ")\n",
    "print(response.completion)"
   ]
  },
  {
   "cell_type": "markdown",
   "metadata": {},
   "source": [
    "## 4. Video Analysis (Gemini)\n",
    "\n",
    "Gemini can analyze video content, extracting information about scenes, actions, and objects."
   ]
  },
  {
   "cell_type": "code",
   "execution_count": null,
   "metadata": {},
   "outputs": [],
   "source": [
    "# Note: This is a placeholder. Actual implementation would require video input.\n",
    "video_prompt = \"\"\"\n",
    "Analyze the following video and provide a detailed description of its contents, \n",
    "including key scenes, actions, and any text or speech present.\n",
    "\n",
    "[Video content would be provided here]\n",
    "\"\"\"\n",
    "\n",
    "model = genai.GenerativeModel('gemini-pro-vision')\n",
    "response = model.generate_content(video_prompt)\n",
    "print(response.text)"
   ]
  },
  {
   "cell_type": "markdown",
   "metadata": {},
   "source": [
    "## 5. Audio Transcription and Analysis (GPT-4)\n",
    "\n",
    "GPT-4 can transcribe audio and perform analysis on the transcribed text."
   ]
  },
  {
   "cell_type": "code",
   "execution_count": null,
   "metadata": {},
   "outputs": [],
   "source": [
    "# Note: This is a placeholder. Actual implementation would require audio input.\n",
    "audio_prompt = \"\"\"\n",
    "Transcribe the following audio and analyze its content:\n",
    "1. Identify the main topics discussed\n",
    "2. Detect the speaker's emotion\n",
    "3. Summarize key points\n",
    "\n",
    "[Audio content would be provided here]\n",
    "\"\"\"\n",
    "\n",
    "response = openai.ChatCompletion.create(\n",
    "    model=\"gpt-4\",\n",
    "    messages=[{\"role\": \"user\", \"content\": audio_prompt}]\n",
    ")\n",
    "print(response.choices[0].message.content)"
   ]
  },
  {
   "cell_type": "markdown",
   "metadata": {},
   "source": [
    "## 6. Data Visualization (Claude)\n",
    "\n",
    "Claude can provide guidance on creating effective data visualizations and explain complex charts."
   ]
  },
  {
   "cell_type": "code",
   "execution_count": null,
   "metadata": {},
   "outputs": [],
   "source": [
    "viz_prompt = \"\"\"\n",
    "Create a Python script using matplotlib to visualize the following data:\n",
    "Year: [2018, 2019, 2020, 2021, 2022]\n",
    "Sales: [100, 120, 90, 150, 180]\n",
    "Profit: [20, 25, 15, 30, 40]\n",
    "\n",
    "Use a line chart for Sales and a bar chart for Profit in the same figure.\n",
    "\"\"\"\n",
    "\n",
    "response = anthropic.completions.create(\n",
    "    model=\"claude-2\",\n",
    "    prompt=f\"{HUMAN_PROMPT} {viz_prompt}{AI_PROMPT}\",\n",
    "    max_tokens_to_sample=500\n",
    ")\n",
    "print(response.completion)"
   ]
  },
  {
   "cell_type": "markdown",
   "metadata": {},
   "source": [
    "## 7. Mathematical Problem Solving (Gemini)\n",
    "\n",
    "Gemini can solve complex mathematical problems and provide step-by-step explanations."
   ]
  },
  {
   "cell_type": "code",
   "execution_count": null,
   "metadata": {},
   "outputs": [],
   "source": [
    "math_prompt = \"\"\"\n",
    "Solve the following calculus problem and provide a step-by-step explanation:\n",
    "\n",
    "Find the volume of the solid obtained by rotating the region bounded by \n",
    "y = x^2, y = 0, and x = 2 about the y-axis.\n",
    "\"\"\"\n",
    "\n",
    "model = genai.GenerativeModel('gemini-pro')\n",
    "response = model.generate_content(math_prompt)\n",
    "print(response.text)"
   ]
  },
  {
   "cell_type": "markdown",
   "metadata": {},
   "source": [
    "## 8. Creative Writing (GPT-4)\n",
    "\n",
    "GPT-4 excels in creative writing tasks, generating stories, poems, and scripts based on prompts."
   ]
  },
  {
   "cell_type": "code",
   "execution_count": null,
   "metadata": {},
   "outputs": [],
   "source": [
    "writing_prompt = \"\"\"\n",
    "Write a short story (about 250 words) that combines elements of science fiction \n",
    "and romance. The story should be set on a space station orbiting a distant planet \n",
    "and involve two characters from different alien species.\n",
    "\"\"\"\n",
    "\n",
    "response = openai.ChatCompletion.create(\n",
    "    model=\"gpt-4\",\n",
    "    messages=[{\"role\": \"user\", \"content\": writing_prompt}]\n",
    ")\n",
    "print(response.choices[0].message.content)"
   ]
  },
  {
   "cell_type": "markdown",
   "metadata": {},
   "source": [
    "## 9. Language Translation and Cultural Context (Claude)\n",
    "\n",
    "Claude can perform nuanced language translation, considering cultural context and idiomatic expressions."
   ]
  },
  {
   "cell_type": "code",
   "execution_count": null,
   "metadata": {},
   "outputs": [],
   "source": [
    "translation_prompt = \"\"\"\n",
    "Translate the following English text to French, Spanish, and Japanese. \n",
    "For each translation, provide a brief explanation of any cultural nuances or idiomatic expressions that required special consideration:\n",
    "\n",
    "\"It's raining cats and dogs out there! Let's just Netflix and chill instead of going to the party.\"\n",
    "\"\"\"\n",
    "\n",
    "response = anthropic.completions.create(\n",
    "    model=\"claude-2\",\n",
    "    prompt=f\"{HUMAN_PROMPT} {translation_prompt}{AI_PROMPT}\",\n",
    "    max_tokens_to_sample=1000\n",
    ")\n",
    "print(response.completion)"
   ]
  },
  {
   "cell_type": "markdown",
   "metadata": {},
   "source": [
    "## 10. Multimodal Reasoning (Gemini)\n",
    "\n",
    "Gemini can combine information from multiple modalities (text, image, video) to solve complex problems or answer queries."
   ]
  },
  {
   "cell_type": "code",
   "execution_count": null,
   "metadata": {},
   "outputs": [],
   "source": [
    "# Note: This is a placeholder. Actual implementation would require multimodal input.\n",
    "multimodal_prompt = \"\"\"\n",
    "Analyze the following information and answer the question:\n",
    "\n",
    "1. Text: \"The graph shows the population growth of two species in a controlled environment over 10 years.\"\n",
    "2. Image: [A line graph showing two intersecting curves]\n",
    "3. Video: [A 30-second clip explaining predator-prey relationships]\n",
    "\n",
    "Question: Based on the provided information, what type of ecological relationship \n",
    "is likely represented, and what factors might be influencing the population dynamics?\n",
    "\"\"\"\n",
    "\n",
    "model = genai.GenerativeModel('gemini-pro-vision')\n",
    "response = model.generate_content(multimodal_prompt)\n",
    "print(response.text)"
   ]
  },
  {
   "cell_type": "markdown",
   "metadata": {},
   "source": [
    "## Conclusion\n",
    "\n",
    "This notebook has demonstrated ten advanced features of Gemini, Claude, and GPT-4 across various domains, showcasing their multimodal capabilities in handling video, audio, images, and text. These AI models exhibit remarkable versatility in tasks ranging from code generation and mathematical problem-solving to creative writing and multimodal reasoning, highlighting the cutting-edge advancements in artificial intelligence."
   ]
  }
 ],
 "metadata": {
  "language_info": {
   "name": "python"
  }
 },
 "nbformat": 4,
 "nbformat_minor": 2
}
