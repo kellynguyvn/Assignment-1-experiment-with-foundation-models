{
  "nbformat": 4,
  "nbformat_minor": 0,
  "metadata": {
    "colab": {
      "provenance": []
    },
    "kernelspec": {
      "name": "python3",
      "display_name": "Python 3"
    },
    "language_info": {
      "name": "python"
    }
  },
  "cells": [
    {
      "cell_type": "markdown",
      "source": [
        "# Multimodal Capabilities of Gemini, Claude, and GPT-4\n",
        "\n",
        "This notebook demonstrates the advanced multimodal capabilities of three leading AI models: Gemini, Claude, and GPT-4. We'll explore their abilities across various modalities including video, audio, images, and text, showcasing ten advanced features in ten different domains."
      ],
      "metadata": {
        "id": "yK_sfv2ykZOF"
      }
    },
    {
      "cell_type": "markdown",
      "source": [
        "## Setup\n",
        "\n",
        "First, let's install the necessary libraries and set up API keys."
      ],
      "metadata": {
        "id": "CDYEwKNdkcMQ"
      }
    },
    {
      "cell_type": "code",
      "execution_count": 46,
      "metadata": {
        "id": "FKEXQgT9hara",
        "colab": {
          "base_uri": "https://localhost:8080/"
        },
        "outputId": "9efc3439-0ff8-4c30-f2d1-c29a253e1348"
      },
      "outputs": [
        {
          "output_type": "stream",
          "name": "stdout",
          "text": [
            "Requirement already satisfied: google-generativeai in /usr/local/lib/python3.10/dist-packages (0.7.2)\n",
            "Requirement already satisfied: openai in /usr/local/lib/python3.10/dist-packages (1.43.0)\n",
            "Requirement already satisfied: anthropic in /usr/local/lib/python3.10/dist-packages (0.34.1)\n",
            "Requirement already satisfied: google-ai-generativelanguage==0.6.6 in /usr/local/lib/python3.10/dist-packages (from google-generativeai) (0.6.6)\n",
            "Requirement already satisfied: google-api-core in /usr/local/lib/python3.10/dist-packages (from google-generativeai) (2.19.1)\n",
            "Requirement already satisfied: google-api-python-client in /usr/local/lib/python3.10/dist-packages (from google-generativeai) (2.137.0)\n",
            "Requirement already satisfied: google-auth>=2.15.0 in /usr/local/lib/python3.10/dist-packages (from google-generativeai) (2.27.0)\n",
            "Requirement already satisfied: protobuf in /usr/local/lib/python3.10/dist-packages (from google-generativeai) (3.20.3)\n",
            "Requirement already satisfied: pydantic in /usr/local/lib/python3.10/dist-packages (from google-generativeai) (2.8.2)\n",
            "Requirement already satisfied: tqdm in /usr/local/lib/python3.10/dist-packages (from google-generativeai) (4.66.5)\n",
            "Requirement already satisfied: typing-extensions in /usr/local/lib/python3.10/dist-packages (from google-generativeai) (4.12.2)\n",
            "Requirement already satisfied: proto-plus<2.0.0dev,>=1.22.3 in /usr/local/lib/python3.10/dist-packages (from google-ai-generativelanguage==0.6.6->google-generativeai) (1.24.0)\n",
            "Requirement already satisfied: anyio<5,>=3.5.0 in /usr/local/lib/python3.10/dist-packages (from openai) (3.7.1)\n",
            "Requirement already satisfied: distro<2,>=1.7.0 in /usr/lib/python3/dist-packages (from openai) (1.7.0)\n",
            "Requirement already satisfied: httpx<1,>=0.23.0 in /usr/local/lib/python3.10/dist-packages (from openai) (0.27.2)\n",
            "Requirement already satisfied: jiter<1,>=0.4.0 in /usr/local/lib/python3.10/dist-packages (from openai) (0.5.0)\n",
            "Requirement already satisfied: sniffio in /usr/local/lib/python3.10/dist-packages (from openai) (1.3.1)\n",
            "Requirement already satisfied: tokenizers>=0.13.0 in /usr/local/lib/python3.10/dist-packages (from anthropic) (0.19.1)\n",
            "Requirement already satisfied: idna>=2.8 in /usr/local/lib/python3.10/dist-packages (from anyio<5,>=3.5.0->openai) (3.8)\n",
            "Requirement already satisfied: exceptiongroup in /usr/local/lib/python3.10/dist-packages (from anyio<5,>=3.5.0->openai) (1.2.2)\n",
            "Requirement already satisfied: googleapis-common-protos<2.0.dev0,>=1.56.2 in /usr/local/lib/python3.10/dist-packages (from google-api-core->google-generativeai) (1.64.0)\n",
            "Requirement already satisfied: requests<3.0.0.dev0,>=2.18.0 in /usr/local/lib/python3.10/dist-packages (from google-api-core->google-generativeai) (2.32.3)\n",
            "Requirement already satisfied: cachetools<6.0,>=2.0.0 in /usr/local/lib/python3.10/dist-packages (from google-auth>=2.15.0->google-generativeai) (5.5.0)\n",
            "Requirement already satisfied: pyasn1-modules>=0.2.1 in /usr/local/lib/python3.10/dist-packages (from google-auth>=2.15.0->google-generativeai) (0.4.0)\n",
            "Requirement already satisfied: rsa<5,>=3.1.4 in /usr/local/lib/python3.10/dist-packages (from google-auth>=2.15.0->google-generativeai) (4.9)\n",
            "Requirement already satisfied: certifi in /usr/local/lib/python3.10/dist-packages (from httpx<1,>=0.23.0->openai) (2024.7.4)\n",
            "Requirement already satisfied: httpcore==1.* in /usr/local/lib/python3.10/dist-packages (from httpx<1,>=0.23.0->openai) (1.0.5)\n",
            "Requirement already satisfied: h11<0.15,>=0.13 in /usr/local/lib/python3.10/dist-packages (from httpcore==1.*->httpx<1,>=0.23.0->openai) (0.14.0)\n",
            "Requirement already satisfied: annotated-types>=0.4.0 in /usr/local/lib/python3.10/dist-packages (from pydantic->google-generativeai) (0.7.0)\n",
            "Requirement already satisfied: pydantic-core==2.20.1 in /usr/local/lib/python3.10/dist-packages (from pydantic->google-generativeai) (2.20.1)\n",
            "Requirement already satisfied: huggingface-hub<1.0,>=0.16.4 in /usr/local/lib/python3.10/dist-packages (from tokenizers>=0.13.0->anthropic) (0.23.5)\n",
            "Requirement already satisfied: httplib2<1.dev0,>=0.19.0 in /usr/local/lib/python3.10/dist-packages (from google-api-python-client->google-generativeai) (0.22.0)\n",
            "Requirement already satisfied: google-auth-httplib2<1.0.0,>=0.2.0 in /usr/local/lib/python3.10/dist-packages (from google-api-python-client->google-generativeai) (0.2.0)\n",
            "Requirement already satisfied: uritemplate<5,>=3.0.1 in /usr/local/lib/python3.10/dist-packages (from google-api-python-client->google-generativeai) (4.1.1)\n",
            "Requirement already satisfied: grpcio<2.0dev,>=1.33.2 in /usr/local/lib/python3.10/dist-packages (from google-api-core[grpc]!=2.0.*,!=2.1.*,!=2.10.*,!=2.2.*,!=2.3.*,!=2.4.*,!=2.5.*,!=2.6.*,!=2.7.*,!=2.8.*,!=2.9.*,<3.0.0dev,>=1.34.1->google-ai-generativelanguage==0.6.6->google-generativeai) (1.64.1)\n",
            "Requirement already satisfied: grpcio-status<2.0.dev0,>=1.33.2 in /usr/local/lib/python3.10/dist-packages (from google-api-core[grpc]!=2.0.*,!=2.1.*,!=2.10.*,!=2.2.*,!=2.3.*,!=2.4.*,!=2.5.*,!=2.6.*,!=2.7.*,!=2.8.*,!=2.9.*,<3.0.0dev,>=1.34.1->google-ai-generativelanguage==0.6.6->google-generativeai) (1.48.2)\n",
            "Requirement already satisfied: pyparsing!=3.0.0,!=3.0.1,!=3.0.2,!=3.0.3,<4,>=2.4.2 in /usr/local/lib/python3.10/dist-packages (from httplib2<1.dev0,>=0.19.0->google-api-python-client->google-generativeai) (3.1.4)\n",
            "Requirement already satisfied: filelock in /usr/local/lib/python3.10/dist-packages (from huggingface-hub<1.0,>=0.16.4->tokenizers>=0.13.0->anthropic) (3.15.4)\n",
            "Requirement already satisfied: fsspec>=2023.5.0 in /usr/local/lib/python3.10/dist-packages (from huggingface-hub<1.0,>=0.16.4->tokenizers>=0.13.0->anthropic) (2024.6.1)\n",
            "Requirement already satisfied: packaging>=20.9 in /usr/local/lib/python3.10/dist-packages (from huggingface-hub<1.0,>=0.16.4->tokenizers>=0.13.0->anthropic) (24.1)\n",
            "Requirement already satisfied: pyyaml>=5.1 in /usr/local/lib/python3.10/dist-packages (from huggingface-hub<1.0,>=0.16.4->tokenizers>=0.13.0->anthropic) (6.0.2)\n",
            "Requirement already satisfied: pyasn1<0.7.0,>=0.4.6 in /usr/local/lib/python3.10/dist-packages (from pyasn1-modules>=0.2.1->google-auth>=2.15.0->google-generativeai) (0.6.0)\n",
            "Requirement already satisfied: charset-normalizer<4,>=2 in /usr/local/lib/python3.10/dist-packages (from requests<3.0.0.dev0,>=2.18.0->google-api-core->google-generativeai) (3.3.2)\n",
            "Requirement already satisfied: urllib3<3,>=1.21.1 in /usr/local/lib/python3.10/dist-packages (from requests<3.0.0.dev0,>=2.18.0->google-api-core->google-generativeai) (2.0.7)\n"
          ]
        }
      ],
      "source": [
        "!pip install google-generativeai openai anthropic\n",
        "\n",
        "import os\n",
        "import google.generativeai as genai\n",
        "import openai\n",
        "from anthropic import Anthropic, HUMAN_PROMPT, AI_PROMPT\n",
        "\n",
        "\n",
        "# Initialize clients\n",
        "genai.configure(api_key=os.environ['GOOGLE_API_KEY'])\n",
        "openai.api_key = os.environ['OPENAI_API_KEY']\n",
        "anthropic = Anthropic(api_key=os.environ['ANTHROPIC_API_KEY'])"
      ]
    },
    {
      "cell_type": "code",
      "source": [
        "!pip install --upgrade openai\n"
      ],
      "metadata": {
        "colab": {
          "base_uri": "https://localhost:8080/"
        },
        "id": "ltU5e5EarYLG",
        "outputId": "8ba813db-0e3f-4a11-b6b9-be33df2c5a8c"
      },
      "execution_count": 29,
      "outputs": [
        {
          "output_type": "stream",
          "name": "stdout",
          "text": [
            "Requirement already satisfied: openai in /usr/local/lib/python3.10/dist-packages (1.43.0)\n",
            "Requirement already satisfied: anyio<5,>=3.5.0 in /usr/local/lib/python3.10/dist-packages (from openai) (3.7.1)\n",
            "Requirement already satisfied: distro<2,>=1.7.0 in /usr/lib/python3/dist-packages (from openai) (1.7.0)\n",
            "Requirement already satisfied: httpx<1,>=0.23.0 in /usr/local/lib/python3.10/dist-packages (from openai) (0.27.2)\n",
            "Requirement already satisfied: jiter<1,>=0.4.0 in /usr/local/lib/python3.10/dist-packages (from openai) (0.5.0)\n",
            "Requirement already satisfied: pydantic<3,>=1.9.0 in /usr/local/lib/python3.10/dist-packages (from openai) (2.8.2)\n",
            "Requirement already satisfied: sniffio in /usr/local/lib/python3.10/dist-packages (from openai) (1.3.1)\n",
            "Requirement already satisfied: tqdm>4 in /usr/local/lib/python3.10/dist-packages (from openai) (4.66.5)\n",
            "Requirement already satisfied: typing-extensions<5,>=4.11 in /usr/local/lib/python3.10/dist-packages (from openai) (4.12.2)\n",
            "Requirement already satisfied: idna>=2.8 in /usr/local/lib/python3.10/dist-packages (from anyio<5,>=3.5.0->openai) (3.8)\n",
            "Requirement already satisfied: exceptiongroup in /usr/local/lib/python3.10/dist-packages (from anyio<5,>=3.5.0->openai) (1.2.2)\n",
            "Requirement already satisfied: certifi in /usr/local/lib/python3.10/dist-packages (from httpx<1,>=0.23.0->openai) (2024.7.4)\n",
            "Requirement already satisfied: httpcore==1.* in /usr/local/lib/python3.10/dist-packages (from httpx<1,>=0.23.0->openai) (1.0.5)\n",
            "Requirement already satisfied: h11<0.15,>=0.13 in /usr/local/lib/python3.10/dist-packages (from httpcore==1.*->httpx<1,>=0.23.0->openai) (0.14.0)\n",
            "Requirement already satisfied: annotated-types>=0.4.0 in /usr/local/lib/python3.10/dist-packages (from pydantic<3,>=1.9.0->openai) (0.7.0)\n",
            "Requirement already satisfied: pydantic-core==2.20.1 in /usr/local/lib/python3.10/dist-packages (from pydantic<3,>=1.9.0->openai) (2.20.1)\n"
          ]
        }
      ]
    },
    {
      "cell_type": "markdown",
      "source": [
        "## 1. Code Generation and Analysis (Gemini)\n",
        "\n",
        "Gemini excels at understanding and generating code across multiple programming languages."
      ],
      "metadata": {
        "id": "Zv_mebQwkjFs"
      }
    },
    {
      "cell_type": "code",
      "source": [
        "code_prompt = \"\"\"\n",
        "Generate a Python function that implements a basic neural network\n",
        "using NumPy. The function should take input data, hidden layer size,\n",
        "and output size as parameters.\n",
        "\"\"\"\n",
        "\n",
        "model = genai.GenerativeModel('gemini-pro')\n",
        "response = model.generate_content(code_prompt)\n",
        "print(response.text)"
      ],
      "metadata": {
        "colab": {
          "base_uri": "https://localhost:8080/",
          "height": 538
        },
        "id": "_TmS_Tl-klg4",
        "outputId": "325d439d-e73e-44fa-d3a7-9d0f7b1a788d"
      },
      "execution_count": 2,
      "outputs": [
        {
          "output_type": "stream",
          "name": "stdout",
          "text": [
            "```python\n",
            "import numpy as np\n",
            "\n",
            "def neural_network(input_data, hidden_layer_size, output_size):\n",
            "  \"\"\"\n",
            "  Implements a basic neural network using NumPy.\n",
            "\n",
            "  Args:\n",
            "    input_data: Input data.\n",
            "    hidden_layer_size: Size of the hidden layer.\n",
            "    output_size: Size of the output layer.\n",
            "\n",
            "  Returns:\n",
            "    Output of the neural network.\n",
            "  \"\"\"\n",
            "\n",
            "  # Initialize weights and biases.\n",
            "  weights1 = np.random.randn(input_data.shape[1], hidden_layer_size)\n",
            "  biases1 = np.zeros((hidden_layer_size,))\n",
            "  weights2 = np.random.randn(hidden_layer_size, output_size)\n",
            "  biases2 = np.zeros((output_size,))\n",
            "\n",
            "  # Forward pass.\n",
            "  hidden_layer = np.dot(input_data, weights1) + biases1\n",
            "  hidden_layer = np.maximum(hidden_layer, 0)  # ReLU activation function.\n",
            "  output_layer = np.dot(hidden_layer, weights2) + biases2\n",
            "  output_layer = np.softmax(output_layer)  # Softmax activation function.\n",
            "\n",
            "  return output_layer\n",
            "```\n"
          ]
        }
      ]
    },
    {
      "cell_type": "markdown",
      "source": [
        "## 2. Image Analysis and Generation (DALL-E 3 via GPT-4)\n",
        "\n",
        "GPT-4 can analyze images and generate detailed descriptions. It can also use DALL-E 3 to create images based on text prompts."
      ],
      "metadata": {
        "id": "BT10LxTbkpDC"
      }
    },
    {
      "cell_type": "code",
      "source": [
        "# Image generation\n",
        "generation_prompt = \"Create an image of a futuristic city with flying cars and holographic billboards.\"\n",
        "\n",
        "response = openai.images.generate(\n",
        "  prompt=generation_prompt,\n",
        "  n=1,\n",
        "  size=\"1024x1024\"\n",
        ")\n",
        "print(f\"Generated image URL: {response.data[0].url}\")"
      ],
      "metadata": {
        "colab": {
          "base_uri": "https://localhost:8080/"
        },
        "id": "x1X0gD_UksAl",
        "outputId": "cd139005-9579-4651-f8a8-7dacd2566d09"
      },
      "execution_count": 6,
      "outputs": [
        {
          "output_type": "stream",
          "name": "stdout",
          "text": [
            "Generated image URL: https://oaidalleapiprodscus.blob.core.windows.net/private/org-9ocnp45utretxrig3vwbs6Fi/user-745SL8lDnLFvDTTmecLqoObC/img-44HXooyKV7wqZQhP5iwBDfoo.png?st=2024-09-03T05%3A42%3A29Z&se=2024-09-03T07%3A42%3A29Z&sp=r&sv=2024-08-04&sr=b&rscd=inline&rsct=image/png&skoid=d505667d-d6c1-4a0a-bac7-5c84a87759f8&sktid=a48cca56-e6da-484e-a814-9c849652bcb3&skt=2024-09-02T23%3A53%3A00Z&ske=2024-09-03T23%3A53%3A00Z&sks=b&skv=2024-08-04&sig=s1lV7ppsOyCDaTk6L/eiDNVUW8jOjYmR%2B6HSV/R7E4E%3D\n"
          ]
        }
      ]
    },
    {
      "cell_type": "markdown",
      "source": [
        "## 3. Natural Language Processing (Claude)\n",
        "\n",
        "Claude excels in various NLP tasks, including sentiment analysis, named entity recognition, and text summarization."
      ],
      "metadata": {
        "id": "qj-KVaSakubo"
      }
    },
    {
      "cell_type": "code",
      "source": [
        "nlp_prompt = \"\"\"\n",
        "Perform the following NLP tasks on this text:\n",
        "'Apple Inc. announced today that its new iPhone 15 Pro has revolutionized mobile photography with its advanced AI-powered camera system.'\n",
        "\n",
        "1. Sentiment Analysis\n",
        "2. Named Entity Recognition\n",
        "3. Key Information Extraction\n",
        "\"\"\"\n",
        "\n",
        "response = anthropic.completions.create(\n",
        "    model=\"claude-2\",\n",
        "    prompt=f\"{HUMAN_PROMPT} {nlp_prompt}{AI_PROMPT}\",\n",
        "    max_tokens_to_sample=300\n",
        ")\n",
        "print(response.completion)"
      ],
      "metadata": {
        "colab": {
          "base_uri": "https://localhost:8080/"
        },
        "id": "DOIUV37qkw9V",
        "outputId": "8c65f98d-ca04-4157-b9dd-0ff665f91db5"
      },
      "execution_count": 11,
      "outputs": [
        {
          "output_type": "stream",
          "name": "stdout",
          "text": [
            " Here are the results of performing those NLP tasks on the given text:\n",
            "\n",
            "1. Sentiment Analysis:\n",
            "The text has a positive sentiment. Keywords like \"announced\", \"revolutionized\", and \"advanced\" indicate excitement and positive sentiment around the new iPhone product.\n",
            "\n",
            "2. Named Entity Recognition:\n",
            "Entities found: \n",
            "- Apple Inc.: Organization\n",
            "- iPhone 15 Pro: Product\n",
            "\n",
            "3. Key Information Extraction:\n",
            "- Company: Apple Inc.\n",
            "- Product: iPhone 15 Pro \n",
            "- Key Features: \n",
            "    - Advanced AI-powered camera system\n",
            "    - Revolutionized mobile photography\n",
            "\n",
            "The key information extracted includes the company name, product name, and the key advanced feature being touted - the AI-powered camera system which has supposedly revolutionized mobile photography.\n"
          ]
        }
      ]
    },
    {
      "cell_type": "markdown",
      "source": [
        "## 4. Video Analysis (Gemini)\n",
        "\n",
        "Gemini can analyze video content, extracting information about scenes, actions, and objects."
      ],
      "metadata": {
        "id": "JlrDVSjGkzFW"
      }
    },
    {
      "cell_type": "code",
      "source": [
        "video_url = \"https://www.youtube.com/watch?v=8sQOxZpEszA\"\n",
        "\n",
        "video_prompt = f\"\"\"\n",
        "Analyze the following video and provide a detailed description of its contents,\n",
        "including key scenes, actions, and any text or speech present.\n",
        "\n",
        "{video_url}\n",
        "\"\"\"\n",
        "\n",
        "response = model.generate_content(video_prompt)\n",
        "print(response.text)\n"
      ],
      "metadata": {
        "colab": {
          "base_uri": "https://localhost:8080/",
          "height": 867
        },
        "id": "KrMaJlzTk1Eq",
        "outputId": "3cfff369-9ede-4505-b209-f5816d18a2dd"
      },
      "execution_count": 14,
      "outputs": [
        {
          "output_type": "stream",
          "name": "stdout",
          "text": [
            "**Scene 1:**\n",
            "\n",
            "* Black screen with the text \"What is the importance of Education?\" in white font.\n",
            "* A montage of shots showing diverse students in classrooms and learning environments.\n",
            "\n",
            "**Scene 2:**\n",
            "\n",
            "* A young girl in a classroom asks her teacher, \"Why do I have to learn math?\"\n",
            "* The teacher responds, \"Math is a tool that helps you understand the world.\"\n",
            "* The girl uses math to solve a problem in her everyday life.\n",
            "\n",
            "**Scene 3:**\n",
            "\n",
            "* A montage of shots showing people using math in their careers, such as engineers, scientists, and architects.\n",
            "* Text on screen: \"Math is essential for success in the 21st century.\"\n",
            "\n",
            "**Scene 4:**\n",
            "\n",
            "* A group of students collaborating on a project.\n",
            "* Text on screen: \"Education is more than just learning facts.\"\n",
            "* The students learn from each other and develop critical thinking and problem-solving skills.\n",
            "\n",
            "**Scene 5:**\n",
            "\n",
            "* A teacher asking her students, \"What are the most important things you've learned in school?\"\n",
            "* The students give answers such as:\n",
            "    * \"How to think critically.\"\n",
            "    * \"How to communicate effectively.\"\n",
            "    * \"How to respect others.\"\n",
            "\n",
            "**Scene 6:**\n",
            "\n",
            "* A montage of shots showing students in various extracurricular activities, such as sports, music, and drama.\n",
            "* Text on screen: \"Education is about developing the whole child.\"\n",
            "\n",
            "**Scene 7:**\n",
            "\n",
            "* A young boy in a library reads a book.\n",
            "* Text on screen: \"Education opens new worlds.\"\n",
            "\n",
            "**Scene 8:**\n",
            "\n",
            "* A montage of shots showing the positive impact of education on individuals and society.\n",
            "* Text on screen: \"Education is the key to a better future.\"\n",
            "\n",
            "**Conclusion:**\n",
            "\n",
            "* Text on screen: \"The importance of Education is immeasurable.\"\n",
            "* The video ends with a shot of a school building and the text \"Invest in Education.\"\n"
          ]
        }
      ]
    },
    {
      "cell_type": "markdown",
      "source": [
        "## 5. Audio Transcription and Analysis (GPT-4)\n",
        "\n",
        "GPT-4 can transcribe audio and perform analysis on the transcribed text."
      ],
      "metadata": {
        "id": "v5hAzceDk3nB"
      }
    },
    {
      "cell_type": "code",
      "source": [
        "from openai import OpenAI\n",
        "client = OpenAI()\n",
        "\n",
        "audio_path = \"/content/03-01-03-01-01-01-01.wav\"\n",
        "audio_prompt = f\"\"\"\n",
        "Transcribe the following audio and analyze its content:\n",
        "1. Identify the main topics discussed\n",
        "2. Detect the speaker's emotion\n",
        "3. Summarize key points\n",
        "\n",
        "{audio_path}\n",
        "\"\"\"\n",
        "\n",
        "response = client.chat.completions.create(\n",
        "    model=\"gpt-4\",\n",
        "    messages=[{\"role\": \"user\", \"content\": audio_prompt}]\n",
        ")\n",
        "print(response.choices[0].message.content)"
      ],
      "metadata": {
        "colab": {
          "base_uri": "https://localhost:8080/"
        },
        "id": "4vRxs-3Ik5na",
        "outputId": "be70e36f-bf8c-4fe1-ee65-f0e0f2972566"
      },
      "execution_count": 37,
      "outputs": [
        {
          "output_type": "stream",
          "name": "stdout",
          "text": [
            "As an AI text-based model, I'm unable to process audio files or recognize human speech in them. I can only analyse, summarize and discuss text data. Please provide a text script to analyze.\n"
          ]
        }
      ]
    },
    {
      "cell_type": "markdown",
      "source": [
        "## 6. Data Visualization (Claude)\n",
        "\n",
        "Claude can provide guidance on creating effective data visualizations and explain complex charts."
      ],
      "metadata": {
        "id": "qFvtaeA9k9Tu"
      }
    },
    {
      "cell_type": "code",
      "source": [
        "viz_prompt = \"\"\"\n",
        "Create a Python script using matplotlib to visualize the following data:\n",
        "Year: [2018, 2019, 2020, 2021, 2022]\n",
        "Sales: [100, 120, 90, 150, 180]\n",
        "Profit: [20, 25, 15, 30, 40]\n",
        "\n",
        "Use a line chart for Sales and a bar chart for Profit in the same figure.\n",
        "\"\"\"\n",
        "\n",
        "response = anthropic.completions.create(\n",
        "    model=\"claude-2\",\n",
        "    prompt=f\"{HUMAN_PROMPT} {viz_prompt}{AI_PROMPT}\",\n",
        "    max_tokens_to_sample=500\n",
        ")\n",
        "print(response.completion)"
      ],
      "metadata": {
        "colab": {
          "base_uri": "https://localhost:8080/"
        },
        "id": "SjYGMsPbk8-e",
        "outputId": "a38c5c3a-b048-444f-ebca-81615ebfe50a"
      },
      "execution_count": 18,
      "outputs": [
        {
          "output_type": "stream",
          "name": "stdout",
          "text": [
            " Here is the Python script to visualize the data as requested:\n",
            "\n",
            "```python\n",
            "import matplotlib.pyplot as plt\n",
            "\n",
            "years = [2018, 2019, 2020, 2021, 2022]\n",
            "sales = [100, 120, 90, 150, 180]\n",
            "profit = [20, 25, 15, 30, 40]\n",
            "\n",
            "fig, ax1 = plt.subplots()\n",
            "\n",
            "ax2 = ax1.twinx()\n",
            "ax1.plot(years, sales, color='blue')\n",
            "ax2.bar(years, profit, color='green')\n",
            "\n",
            "ax1.set_xlabel('Year')\n",
            "ax1.set_ylabel('Sales', color='blue')\n",
            "ax2.set_ylabel('Profit', color='green')\n",
            "\n",
            "plt.title('Sales and Profit Over Years')\n",
            "\n",
            "plt.show()\n",
            "```\n",
            "\n",
            "This scripts creates a figure with a line chart for Sales on the left y-axis and a bar chart for Profit on the right y-axis, with Years on the x-axis. The two charts share the same x-axis but have separate y-axes.\n"
          ]
        }
      ]
    },
    {
      "cell_type": "markdown",
      "source": [
        "## 7. Mathematical Problem Solving (Gemini)\n",
        "\n",
        "Gemini can solve complex mathematical problems and provide step-by-step explanations."
      ],
      "metadata": {
        "id": "Jm7YiNBnlBny"
      }
    },
    {
      "cell_type": "code",
      "source": [
        "math_prompt = \"\"\"\n",
        "Solve the following calculus problem and provide a step-by-step explanation:\n",
        "\n",
        "Find the volume of the solid obtained by rotating the region bounded by\n",
        "y = x^2, y = 0, and x = 2 about the y-axis.\n",
        "\"\"\"\n",
        "\n",
        "model = genai.GenerativeModel('gemini-pro')\n",
        "response = model.generate_content(math_prompt)\n",
        "print(response.text)"
      ],
      "metadata": {
        "colab": {
          "base_uri": "https://localhost:8080/",
          "height": 957
        },
        "id": "WYgGFtwrlDZQ",
        "outputId": "59ca0b8f-f17a-4938-c40a-5ea35399a0f2"
      },
      "execution_count": 19,
      "outputs": [
        {
          "output_type": "stream",
          "name": "stdout",
          "text": [
            "**Step 1: Sketch the Region and the Solid**\n",
            "\n",
            "Sketch the region and the solid generated by rotating it around the y-axis to visualize the problem.\n",
            "\n",
            "**Step 2: Determine the Limits of Integration**\n",
            "\n",
            "The region is defined by the inequalities: \n",
            "```\n",
            "0 ≤ x ≤ 2 and 0 ≤ y ≤ x^2\n",
            "```\n",
            "So, the limits of integration are 0 and 2.\n",
            "\n",
            "**Step 3: Use the Disk Method**\n",
            "\n",
            "Since the solid is generated by rotating the region about the y-axis, we will use the Disk Method:\n",
            "\n",
            "```\n",
            "Volume = π∫[a,b] (radius)^2 dy\n",
            "```\n",
            "\n",
            "In this case, the radius of each disk is given by the distance from the y-axis to the edge of the region, which is simply `x`.\n",
            "\n",
            "**Step 4: Substitute and Evaluate**\n",
            "\n",
            "Substitute the limits of integration and the expression for the radius into the formula:\n",
            "\n",
            "```\n",
            "Volume = π∫[0,2] x^2 dy\n",
            "```\n",
            "\n",
            "**Step 5: Integrate**\n",
            "\n",
            "Integrate with respect to `y`:\n",
            "\n",
            "```\n",
            "Volume = π[x^3/3] evaluated from 0 to 2\n",
            "```\n",
            "\n",
            "**Step 6: Simplify**\n",
            "\n",
            "Evaluate the definite integral:\n",
            "\n",
            "```\n",
            "Volume = π[(2^3)/3 - 0]\n",
            "```\n",
            "\n",
            "**Step 7: Find the Final Answer**\n",
            "\n",
            "```\n",
            "Volume = 8π/3 cubic units\n",
            "```\n",
            "\n",
            "Therefore, the volume of the solid is 8π/3 cubic units.\n"
          ]
        }
      ]
    },
    {
      "cell_type": "markdown",
      "source": [
        "## 8. Creative Writing (GPT-4)\n",
        "\n",
        "GPT-4 excels in creative writing tasks, generating stories, poems, and scripts based on prompts."
      ],
      "metadata": {
        "id": "32bUwoDclHTV"
      }
    },
    {
      "cell_type": "code",
      "source": [
        "from openai import OpenAI\n",
        "client = OpenAI()\n",
        "\n",
        "writing_prompt = \"\"\"\n",
        "Write a short story (about 250 words) that combines elements of science fiction\n",
        "and romance. The story should be set on a space station orbiting a distant planet\n",
        "and involve two characters from different alien species.\n",
        "\"\"\"\n",
        "\n",
        "response = client.chat.completions.create(\n",
        "    model=\"gpt-4\",\n",
        "    messages=[{\"role\": \"user\", \"content\": writing_prompt}]\n",
        ")\n",
        "print(response.choices[0].message.content)"
      ],
      "metadata": {
        "colab": {
          "base_uri": "https://localhost:8080/"
        },
        "id": "TwNk029GlJTL",
        "outputId": "a1c4e23c-4c34-442d-a678-858c8c1e083c"
      },
      "execution_count": 34,
      "outputs": [
        {
          "output_type": "stream",
          "name": "stdout",
          "text": [
            "In the deep vacuum of space, the Omega Station hovered silently in the orbit of a blue, luminescent planet, Hydra Seven. It was a multiversal gathering place for all known lifeforms. Aboard it, existed two beings unspeakably diverse, Nevah and Xeon.\n",
            "\n",
            "Nevah, a radiant sylph from the luminous crystal fields of Lyra, dazzled with ethereal beauty, her translucent form refracting light to display a bright spectrum of colors. Xeon hailed from Galos, a planet thriving in the darkest corners of a black hole, his stout, shadowy figure ever cloaked in enigma.\n",
            "\n",
            "Though lacking any similarity, Nevah and Xeon were inexplicably drawn towards each other. They spent infinite moments observing Hydra Seven and its scintillating dance with its vibrant triplets of moons. The differences that isolated them from their own species seemed to pull them closer.\n",
            "\n",
            "Nevah indeed owned a light grander than any Xeon had ever witnessed, yet around him, her crystal form dimmed, casting a mesmerizing, warm glow. Xeon, the creature of gloom, bathed in her radiance, his darkness engulfed by her overwhelming luminescence. In silence, their eyes spoke tongues.\n",
            "\n",
            "On the uniting bridge of The Omega Station, as the celestial bodies staged an exotic ballet, they made their move. Nevah’s dazzling form brushed against Xeon’s enigmatic silhouette. Despite the differences of light and dark, hard crystal and soft shadow, a strange amalgamation arose, a quiet yet intense explosion of emotions. Their souls resonated, bypassing physical limitations to converge into one.\n",
            "\n",
            "Their galactic waltz became a defining symbol of love on the Omega Station. A romance both peculiar and inspiring—where light embraced darkness, crafting a soft, harmonious glow, a proof to all species that love was indeed a universal language.\n"
          ]
        }
      ]
    },
    {
      "cell_type": "markdown",
      "source": [
        "## 9. Language Translation and Cultural Context (Claude)\n",
        "\n",
        "Claude can perform nuanced language translation, considering cultural context and idiomatic expressions."
      ],
      "metadata": {
        "id": "MPVtkxP2lLat"
      }
    },
    {
      "cell_type": "code",
      "source": [
        "translation_prompt = \"\"\"\n",
        "Translate the following English text to French, Spanish, and Japanese.\n",
        "For each translation, provide a brief explanation of any cultural nuances or idiomatic expressions that required special consideration:\n",
        "\n",
        "\"It's raining cats and dogs out there! Let's just Netflix and chill instead of going to the party.\"\n",
        "\"\"\"\n",
        "\n",
        "response = anthropic.completions.create(\n",
        "    model=\"claude-2\",\n",
        "    prompt=f\"{HUMAN_PROMPT} {translation_prompt}{AI_PROMPT}\",\n",
        "    max_tokens_to_sample=1000\n",
        ")\n",
        "print(response.completion)"
      ],
      "metadata": {
        "colab": {
          "base_uri": "https://localhost:8080/"
        },
        "id": "y-RXjiYLlOF3",
        "outputId": "583ab5a2-e6fb-4217-9429-f2e7377c894f"
      },
      "execution_count": 21,
      "outputs": [
        {
          "output_type": "stream",
          "name": "stdout",
          "text": [
            " Here are the translations with explanations of cultural considerations:\n",
            "\n",
            "French:\n",
            "\"Il pleut des cordes dehors ! Restons ici à regarder Netflix et à se détendre au lieu d'aller à la soirée.\"\n",
            "\n",
            "Explanation: The expression \"pleut des cordes\" (raining ropes) is the equivalent of the English idiom \"raining cats and dogs.\" The phrase \"Netflix et chill\" has become a cultural loan phrase in French to mean relaxing and watching Netflix.\n",
            "\n",
            "Spanish:  \n",
            "\"¡Está lloviendo a cántaros ahí afuera! Mejor nos quedamos aquí viendo Netflix y relajándonos en lugar de ir a la fiesta.\"\n",
            "\n",
            "Explanation: The expression \"lloviendo a cántaros\" (raining jugs) conveys the meaning of a heavy downpour like the English \"raining cats and dogs.\" I kept the English phrase \"Netflix and chill\" since it's commonly used in Spanish when referring to staying in and watching Netflix.\n",
            "\n",
            "Japanese:\n",
            "\"外は猫犬の如く雨が降っている! パーティーに行く代わりに、Netflixを見ながらちょっとくつろぐことにしましょう。\"\n",
            "\n",
            "Explanation: There isn't an exact idiom equivalent to \"raining cats and dogs\" in Japanese, so I opted for a more literal translation to convey heavy rain. I kept \"Netflix\" in English since the term is usually used in its English form in Japanese. I added ちょっと (a little) to show the nuance of chilling and relaxing implied in \"Netflix and chill.\"\n"
          ]
        }
      ]
    },
    {
      "cell_type": "markdown",
      "source": [
        "## 10. Multimodal Reasoning (Gemini)\n",
        "\n",
        "Gemini can combine information from multiple modalities (text, image, video) to solve complex problems or answer queries."
      ],
      "metadata": {
        "id": "MSp3RCsQlOwR"
      }
    },
    {
      "cell_type": "code",
      "source": [
        "# Prepare your multimodal data\n",
        "text_description = \"The graph shows the population growth of two species in a controlled environment over 10 years.\"\n",
        "image_path = \"/content/quokka.jpeg\"\n",
        "video_url = \"https://www.youtube.com/watch?v=8sQOxZpEszA\"\n",
        "\n",
        "# Combine them into a structured prompt\n",
        "multimodal_prompt = f\"\"\"\n",
        "Analyze the following information and answer the question:\n",
        "\n",
        "1. Text: \"{text_description}\"\n",
        "2. Image: {image_path}\n",
        "3. Video: {video_url}\n",
        "\n",
        "Question: Based on the provided information, what type of ecological relationship\n",
        "is likely represented between the content\n",
        "\"\"\"\n",
        "\n",
        "response = model.generate_content(multimodal_prompt)\n",
        "print(response.text)\n"
      ],
      "metadata": {
        "colab": {
          "base_uri": "https://localhost:8080/",
          "height": 445
        },
        "id": "9GL1oLMTlTPK",
        "outputId": "40e011f8-8550-4386-bb73-57b336abbca1"
      },
      "execution_count": 45,
      "outputs": [
        {
          "output_type": "stream",
          "name": "stderr",
          "text": [
            "WARNING:tornado.access:404 POST /v1beta/models/gemini-pro-vision:generateContent?%24alt=json%3Benum-encoding%3Dint (127.0.0.1) 457.79ms\n"
          ]
        },
        {
          "output_type": "error",
          "ename": "NotFound",
          "evalue": "404 POST https://generativelanguage.googleapis.com/v1beta/models/gemini-pro-vision:generateContent?%24alt=json%3Benum-encoding%3Dint: Gemini 1.0 Pro Vision has been deprecated on July 12, 2024. Consider switching to different model, for example gemini-1.5-flash.",
          "traceback": [
            "\u001b[0;31m---------------------------------------------------------------------------\u001b[0m",
            "\u001b[0;31mNotFound\u001b[0m                                  Traceback (most recent call last)",
            "\u001b[0;32m<ipython-input-45-8661ec6be997>\u001b[0m in \u001b[0;36m<cell line: 18>\u001b[0;34m()\u001b[0m\n\u001b[1;32m     16\u001b[0m \"\"\"\n\u001b[1;32m     17\u001b[0m \u001b[0;34m\u001b[0m\u001b[0m\n\u001b[0;32m---> 18\u001b[0;31m \u001b[0mresponse\u001b[0m \u001b[0;34m=\u001b[0m \u001b[0mmodel\u001b[0m\u001b[0;34m.\u001b[0m\u001b[0mgenerate_content\u001b[0m\u001b[0;34m(\u001b[0m\u001b[0mmultimodal_prompt\u001b[0m\u001b[0;34m)\u001b[0m\u001b[0;34m\u001b[0m\u001b[0;34m\u001b[0m\u001b[0m\n\u001b[0m\u001b[1;32m     19\u001b[0m \u001b[0mprint\u001b[0m\u001b[0;34m(\u001b[0m\u001b[0mresponse\u001b[0m\u001b[0;34m.\u001b[0m\u001b[0mtext\u001b[0m\u001b[0;34m)\u001b[0m\u001b[0;34m\u001b[0m\u001b[0;34m\u001b[0m\u001b[0m\n",
            "\u001b[0;32m/usr/local/lib/python3.10/dist-packages/google/generativeai/generative_models.py\u001b[0m in \u001b[0;36mgenerate_content\u001b[0;34m(self, contents, generation_config, safety_settings, stream, tools, tool_config, request_options)\u001b[0m\n\u001b[1;32m    329\u001b[0m                 \u001b[0;32mreturn\u001b[0m \u001b[0mgeneration_types\u001b[0m\u001b[0;34m.\u001b[0m\u001b[0mGenerateContentResponse\u001b[0m\u001b[0;34m.\u001b[0m\u001b[0mfrom_iterator\u001b[0m\u001b[0;34m(\u001b[0m\u001b[0miterator\u001b[0m\u001b[0;34m)\u001b[0m\u001b[0;34m\u001b[0m\u001b[0;34m\u001b[0m\u001b[0m\n\u001b[1;32m    330\u001b[0m             \u001b[0;32melse\u001b[0m\u001b[0;34m:\u001b[0m\u001b[0;34m\u001b[0m\u001b[0;34m\u001b[0m\u001b[0m\n\u001b[0;32m--> 331\u001b[0;31m                 response = self._client.generate_content(\n\u001b[0m\u001b[1;32m    332\u001b[0m                     \u001b[0mrequest\u001b[0m\u001b[0;34m,\u001b[0m\u001b[0;34m\u001b[0m\u001b[0;34m\u001b[0m\u001b[0m\n\u001b[1;32m    333\u001b[0m                     \u001b[0;34m**\u001b[0m\u001b[0mrequest_options\u001b[0m\u001b[0;34m,\u001b[0m\u001b[0;34m\u001b[0m\u001b[0;34m\u001b[0m\u001b[0m\n",
            "\u001b[0;32m/usr/local/lib/python3.10/dist-packages/google/ai/generativelanguage_v1beta/services/generative_service/client.py\u001b[0m in \u001b[0;36mgenerate_content\u001b[0;34m(self, request, model, contents, retry, timeout, metadata)\u001b[0m\n\u001b[1;32m    825\u001b[0m \u001b[0;34m\u001b[0m\u001b[0m\n\u001b[1;32m    826\u001b[0m         \u001b[0;31m# Send the request.\u001b[0m\u001b[0;34m\u001b[0m\u001b[0;34m\u001b[0m\u001b[0m\n\u001b[0;32m--> 827\u001b[0;31m         response = rpc(\n\u001b[0m\u001b[1;32m    828\u001b[0m             \u001b[0mrequest\u001b[0m\u001b[0;34m,\u001b[0m\u001b[0;34m\u001b[0m\u001b[0;34m\u001b[0m\u001b[0m\n\u001b[1;32m    829\u001b[0m             \u001b[0mretry\u001b[0m\u001b[0;34m=\u001b[0m\u001b[0mretry\u001b[0m\u001b[0;34m,\u001b[0m\u001b[0;34m\u001b[0m\u001b[0;34m\u001b[0m\u001b[0m\n",
            "\u001b[0;32m/usr/local/lib/python3.10/dist-packages/google/api_core/gapic_v1/method.py\u001b[0m in \u001b[0;36m__call__\u001b[0;34m(self, timeout, retry, compression, *args, **kwargs)\u001b[0m\n\u001b[1;32m    129\u001b[0m             \u001b[0mkwargs\u001b[0m\u001b[0;34m[\u001b[0m\u001b[0;34m\"compression\"\u001b[0m\u001b[0;34m]\u001b[0m \u001b[0;34m=\u001b[0m \u001b[0mcompression\u001b[0m\u001b[0;34m\u001b[0m\u001b[0;34m\u001b[0m\u001b[0m\n\u001b[1;32m    130\u001b[0m \u001b[0;34m\u001b[0m\u001b[0m\n\u001b[0;32m--> 131\u001b[0;31m         \u001b[0;32mreturn\u001b[0m \u001b[0mwrapped_func\u001b[0m\u001b[0;34m(\u001b[0m\u001b[0;34m*\u001b[0m\u001b[0margs\u001b[0m\u001b[0;34m,\u001b[0m \u001b[0;34m**\u001b[0m\u001b[0mkwargs\u001b[0m\u001b[0;34m)\u001b[0m\u001b[0;34m\u001b[0m\u001b[0;34m\u001b[0m\u001b[0m\n\u001b[0m\u001b[1;32m    132\u001b[0m \u001b[0;34m\u001b[0m\u001b[0m\n\u001b[1;32m    133\u001b[0m \u001b[0;34m\u001b[0m\u001b[0m\n",
            "\u001b[0;32m/usr/local/lib/python3.10/dist-packages/google/api_core/retry/retry_unary.py\u001b[0m in \u001b[0;36mretry_wrapped_func\u001b[0;34m(*args, **kwargs)\u001b[0m\n\u001b[1;32m    291\u001b[0m                 \u001b[0mself\u001b[0m\u001b[0;34m.\u001b[0m\u001b[0m_initial\u001b[0m\u001b[0;34m,\u001b[0m \u001b[0mself\u001b[0m\u001b[0;34m.\u001b[0m\u001b[0m_maximum\u001b[0m\u001b[0;34m,\u001b[0m \u001b[0mmultiplier\u001b[0m\u001b[0;34m=\u001b[0m\u001b[0mself\u001b[0m\u001b[0;34m.\u001b[0m\u001b[0m_multiplier\u001b[0m\u001b[0;34m\u001b[0m\u001b[0;34m\u001b[0m\u001b[0m\n\u001b[1;32m    292\u001b[0m             )\n\u001b[0;32m--> 293\u001b[0;31m             return retry_target(\n\u001b[0m\u001b[1;32m    294\u001b[0m                 \u001b[0mtarget\u001b[0m\u001b[0;34m,\u001b[0m\u001b[0;34m\u001b[0m\u001b[0;34m\u001b[0m\u001b[0m\n\u001b[1;32m    295\u001b[0m                 \u001b[0mself\u001b[0m\u001b[0;34m.\u001b[0m\u001b[0m_predicate\u001b[0m\u001b[0;34m,\u001b[0m\u001b[0;34m\u001b[0m\u001b[0;34m\u001b[0m\u001b[0m\n",
            "\u001b[0;32m/usr/local/lib/python3.10/dist-packages/google/api_core/retry/retry_unary.py\u001b[0m in \u001b[0;36mretry_target\u001b[0;34m(target, predicate, sleep_generator, timeout, on_error, exception_factory, **kwargs)\u001b[0m\n\u001b[1;32m    151\u001b[0m         \u001b[0;32mexcept\u001b[0m \u001b[0mException\u001b[0m \u001b[0;32mas\u001b[0m \u001b[0mexc\u001b[0m\u001b[0;34m:\u001b[0m\u001b[0;34m\u001b[0m\u001b[0;34m\u001b[0m\u001b[0m\n\u001b[1;32m    152\u001b[0m             \u001b[0;31m# defer to shared logic for handling errors\u001b[0m\u001b[0;34m\u001b[0m\u001b[0;34m\u001b[0m\u001b[0m\n\u001b[0;32m--> 153\u001b[0;31m             _retry_error_helper(\n\u001b[0m\u001b[1;32m    154\u001b[0m                 \u001b[0mexc\u001b[0m\u001b[0;34m,\u001b[0m\u001b[0;34m\u001b[0m\u001b[0;34m\u001b[0m\u001b[0m\n\u001b[1;32m    155\u001b[0m                 \u001b[0mdeadline\u001b[0m\u001b[0;34m,\u001b[0m\u001b[0;34m\u001b[0m\u001b[0;34m\u001b[0m\u001b[0m\n",
            "\u001b[0;32m/usr/local/lib/python3.10/dist-packages/google/api_core/retry/retry_base.py\u001b[0m in \u001b[0;36m_retry_error_helper\u001b[0;34m(exc, deadline, next_sleep, error_list, predicate_fn, on_error_fn, exc_factory_fn, original_timeout)\u001b[0m\n\u001b[1;32m    210\u001b[0m             \u001b[0moriginal_timeout\u001b[0m\u001b[0;34m,\u001b[0m\u001b[0;34m\u001b[0m\u001b[0;34m\u001b[0m\u001b[0m\n\u001b[1;32m    211\u001b[0m         )\n\u001b[0;32m--> 212\u001b[0;31m         \u001b[0;32mraise\u001b[0m \u001b[0mfinal_exc\u001b[0m \u001b[0;32mfrom\u001b[0m \u001b[0msource_exc\u001b[0m\u001b[0;34m\u001b[0m\u001b[0;34m\u001b[0m\u001b[0m\n\u001b[0m\u001b[1;32m    213\u001b[0m     \u001b[0;32mif\u001b[0m \u001b[0mon_error_fn\u001b[0m \u001b[0;32mis\u001b[0m \u001b[0;32mnot\u001b[0m \u001b[0;32mNone\u001b[0m\u001b[0;34m:\u001b[0m\u001b[0;34m\u001b[0m\u001b[0;34m\u001b[0m\u001b[0m\n\u001b[1;32m    214\u001b[0m         \u001b[0mon_error_fn\u001b[0m\u001b[0;34m(\u001b[0m\u001b[0mexc\u001b[0m\u001b[0;34m)\u001b[0m\u001b[0;34m\u001b[0m\u001b[0;34m\u001b[0m\u001b[0m\n",
            "\u001b[0;32m/usr/local/lib/python3.10/dist-packages/google/api_core/retry/retry_unary.py\u001b[0m in \u001b[0;36mretry_target\u001b[0;34m(target, predicate, sleep_generator, timeout, on_error, exception_factory, **kwargs)\u001b[0m\n\u001b[1;32m    142\u001b[0m     \u001b[0;32mfor\u001b[0m \u001b[0msleep\u001b[0m \u001b[0;32min\u001b[0m \u001b[0msleep_generator\u001b[0m\u001b[0;34m:\u001b[0m\u001b[0;34m\u001b[0m\u001b[0;34m\u001b[0m\u001b[0m\n\u001b[1;32m    143\u001b[0m         \u001b[0;32mtry\u001b[0m\u001b[0;34m:\u001b[0m\u001b[0;34m\u001b[0m\u001b[0;34m\u001b[0m\u001b[0m\n\u001b[0;32m--> 144\u001b[0;31m             \u001b[0mresult\u001b[0m \u001b[0;34m=\u001b[0m \u001b[0mtarget\u001b[0m\u001b[0;34m(\u001b[0m\u001b[0;34m)\u001b[0m\u001b[0;34m\u001b[0m\u001b[0;34m\u001b[0m\u001b[0m\n\u001b[0m\u001b[1;32m    145\u001b[0m             \u001b[0;32mif\u001b[0m \u001b[0minspect\u001b[0m\u001b[0;34m.\u001b[0m\u001b[0misawaitable\u001b[0m\u001b[0;34m(\u001b[0m\u001b[0mresult\u001b[0m\u001b[0;34m)\u001b[0m\u001b[0;34m:\u001b[0m\u001b[0;34m\u001b[0m\u001b[0;34m\u001b[0m\u001b[0m\n\u001b[1;32m    146\u001b[0m                 \u001b[0mwarnings\u001b[0m\u001b[0;34m.\u001b[0m\u001b[0mwarn\u001b[0m\u001b[0;34m(\u001b[0m\u001b[0m_ASYNC_RETRY_WARNING\u001b[0m\u001b[0;34m)\u001b[0m\u001b[0;34m\u001b[0m\u001b[0;34m\u001b[0m\u001b[0m\n",
            "\u001b[0;32m/usr/local/lib/python3.10/dist-packages/google/api_core/timeout.py\u001b[0m in \u001b[0;36mfunc_with_timeout\u001b[0;34m(*args, **kwargs)\u001b[0m\n\u001b[1;32m    118\u001b[0m                 \u001b[0mkwargs\u001b[0m\u001b[0;34m[\u001b[0m\u001b[0;34m\"timeout\"\u001b[0m\u001b[0;34m]\u001b[0m \u001b[0;34m=\u001b[0m \u001b[0mmax\u001b[0m\u001b[0;34m(\u001b[0m\u001b[0;36m0\u001b[0m\u001b[0;34m,\u001b[0m \u001b[0mself\u001b[0m\u001b[0;34m.\u001b[0m\u001b[0m_timeout\u001b[0m \u001b[0;34m-\u001b[0m \u001b[0mtime_since_first_attempt\u001b[0m\u001b[0;34m)\u001b[0m\u001b[0;34m\u001b[0m\u001b[0;34m\u001b[0m\u001b[0m\n\u001b[1;32m    119\u001b[0m \u001b[0;34m\u001b[0m\u001b[0m\n\u001b[0;32m--> 120\u001b[0;31m             \u001b[0;32mreturn\u001b[0m \u001b[0mfunc\u001b[0m\u001b[0;34m(\u001b[0m\u001b[0;34m*\u001b[0m\u001b[0margs\u001b[0m\u001b[0;34m,\u001b[0m \u001b[0;34m**\u001b[0m\u001b[0mkwargs\u001b[0m\u001b[0;34m)\u001b[0m\u001b[0;34m\u001b[0m\u001b[0;34m\u001b[0m\u001b[0m\n\u001b[0m\u001b[1;32m    121\u001b[0m \u001b[0;34m\u001b[0m\u001b[0m\n\u001b[1;32m    122\u001b[0m         \u001b[0;32mreturn\u001b[0m \u001b[0mfunc_with_timeout\u001b[0m\u001b[0;34m\u001b[0m\u001b[0;34m\u001b[0m\u001b[0m\n",
            "\u001b[0;32m/usr/local/lib/python3.10/dist-packages/google/api_core/grpc_helpers.py\u001b[0m in \u001b[0;36merror_remapped_callable\u001b[0;34m(*args, **kwargs)\u001b[0m\n\u001b[1;32m     74\u001b[0m     \u001b[0;32mdef\u001b[0m \u001b[0merror_remapped_callable\u001b[0m\u001b[0;34m(\u001b[0m\u001b[0;34m*\u001b[0m\u001b[0margs\u001b[0m\u001b[0;34m,\u001b[0m \u001b[0;34m**\u001b[0m\u001b[0mkwargs\u001b[0m\u001b[0;34m)\u001b[0m\u001b[0;34m:\u001b[0m\u001b[0;34m\u001b[0m\u001b[0;34m\u001b[0m\u001b[0m\n\u001b[1;32m     75\u001b[0m         \u001b[0;32mtry\u001b[0m\u001b[0;34m:\u001b[0m\u001b[0;34m\u001b[0m\u001b[0;34m\u001b[0m\u001b[0m\n\u001b[0;32m---> 76\u001b[0;31m             \u001b[0;32mreturn\u001b[0m \u001b[0mcallable_\u001b[0m\u001b[0;34m(\u001b[0m\u001b[0;34m*\u001b[0m\u001b[0margs\u001b[0m\u001b[0;34m,\u001b[0m \u001b[0;34m**\u001b[0m\u001b[0mkwargs\u001b[0m\u001b[0;34m)\u001b[0m\u001b[0;34m\u001b[0m\u001b[0;34m\u001b[0m\u001b[0m\n\u001b[0m\u001b[1;32m     77\u001b[0m         \u001b[0;32mexcept\u001b[0m \u001b[0mgrpc\u001b[0m\u001b[0;34m.\u001b[0m\u001b[0mRpcError\u001b[0m \u001b[0;32mas\u001b[0m \u001b[0mexc\u001b[0m\u001b[0;34m:\u001b[0m\u001b[0;34m\u001b[0m\u001b[0;34m\u001b[0m\u001b[0m\n\u001b[1;32m     78\u001b[0m             \u001b[0;32mraise\u001b[0m \u001b[0mexceptions\u001b[0m\u001b[0;34m.\u001b[0m\u001b[0mfrom_grpc_error\u001b[0m\u001b[0;34m(\u001b[0m\u001b[0mexc\u001b[0m\u001b[0;34m)\u001b[0m \u001b[0;32mfrom\u001b[0m \u001b[0mexc\u001b[0m\u001b[0;34m\u001b[0m\u001b[0;34m\u001b[0m\u001b[0m\n",
            "\u001b[0;32m/usr/local/lib/python3.10/dist-packages/google/ai/generativelanguage_v1beta/services/generative_service/transports/rest.py\u001b[0m in \u001b[0;36m__call__\u001b[0;34m(self, request, retry, timeout, metadata)\u001b[0m\n\u001b[1;32m    844\u001b[0m             \u001b[0;31m# subclass.\u001b[0m\u001b[0;34m\u001b[0m\u001b[0;34m\u001b[0m\u001b[0m\n\u001b[1;32m    845\u001b[0m             \u001b[0;32mif\u001b[0m \u001b[0mresponse\u001b[0m\u001b[0;34m.\u001b[0m\u001b[0mstatus_code\u001b[0m \u001b[0;34m>=\u001b[0m \u001b[0;36m400\u001b[0m\u001b[0;34m:\u001b[0m\u001b[0;34m\u001b[0m\u001b[0;34m\u001b[0m\u001b[0m\n\u001b[0;32m--> 846\u001b[0;31m                 \u001b[0;32mraise\u001b[0m \u001b[0mcore_exceptions\u001b[0m\u001b[0;34m.\u001b[0m\u001b[0mfrom_http_response\u001b[0m\u001b[0;34m(\u001b[0m\u001b[0mresponse\u001b[0m\u001b[0;34m)\u001b[0m\u001b[0;34m\u001b[0m\u001b[0;34m\u001b[0m\u001b[0m\n\u001b[0m\u001b[1;32m    847\u001b[0m \u001b[0;34m\u001b[0m\u001b[0m\n\u001b[1;32m    848\u001b[0m             \u001b[0;31m# Return the response\u001b[0m\u001b[0;34m\u001b[0m\u001b[0;34m\u001b[0m\u001b[0m\n",
            "\u001b[0;31mNotFound\u001b[0m: 404 POST https://generativelanguage.googleapis.com/v1beta/models/gemini-pro-vision:generateContent?%24alt=json%3Benum-encoding%3Dint: Gemini 1.0 Pro Vision has been deprecated on July 12, 2024. Consider switching to different model, for example gemini-1.5-flash."
          ]
        }
      ]
    },
    {
      "cell_type": "markdown",
      "source": [
        "## Conclusion\n",
        "\n",
        "This notebook has demonstrated ten advanced features of Gemini, Claude, and GPT-4 across various domains, showcasing their multimodal capabilities in handling video, audio, images, and text. These AI models exhibit remarkable versatility in tasks ranging from code generation and mathematical problem-solving to creative writing and multimodal reasoning, highlighting the cutting-edge advancements in artificial intelligence."
      ],
      "metadata": {
        "id": "8hdLbVjNlVnK"
      }
    }
  ]
}